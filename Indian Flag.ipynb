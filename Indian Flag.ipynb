{
 "cells": [
  {
   "cell_type": "code",
   "execution_count": 3,
   "id": "2c01223c",
   "metadata": {},
   "outputs": [
    {
     "data": {
      "image/png": "[encoded data removed]",
      "text/plain": [
       "<Figure size 432x288 with 1 Axes>"
      ]
     },
     "metadata": {
      "needs_background": "light"
     },
     "output_type": "display_data"
    }
   ],
   "source": [
    "import numpy as np\n",
    "import matplotlib.pyplot as plt\n",
    "import matplotlib.patches as patch\n",
    "from matplotlib.patches import Rectangle\n",
    "from matplotlib.patches import Polygon\n",
    "#Plotting the tricolor in national flag\n",
    "a=Rectangle((0,1),12,2,facecolor='green',edgecolor='grey')\n",
    "b=Rectangle((0,3),12,2,facecolor='white',edgecolor='grey')\n",
    "c=Rectangle((0,5),12,2,facecolor='orange',edgecolor='grey')\n",
    "m,n=plt.subplots()\n",
    "n.add_patch(a)\n",
    "n.add_patch(b)\n",
    "n.add_patch(c)\n",
    "#AshokChakra Circle\n",
    "radius=0.8\n",
    "plt.plot(6,4,marker='o',markerfacecolor='blue',markersize=7)\n",
    "chakra=plt.Circle((6,4),radius,color='blue',fill=False,linewidth=3)\n",
    "n.add_artist(chakra)\n",
    "#24 spokes in AshokChakra\n",
    "for i in range(0,24):\n",
    "    p=6 + (radius/2) * np.cos(np.pi*i/12 + np.pi/48)\n",
    "    q=6 + (radius/2) * np.cos(np.pi*i/12 - np.pi/48)\n",
    "    r=4 + (radius/2) * np.sin(np.pi*i/12 + np.pi/48)\n",
    "    s=4 + (radius/2) * np.sin(np.pi*i/12 - np.pi/48)\n",
    "    t=6 + radius * np.cos(np.pi*i/12)\n",
    "    u=4 + radius * np.sin(np.pi*i/12)\n",
    "    n.add_patch(Polygon([[6,4],[p,r],[t,u],[q,s]],fill=True, closed=True, color='blue'))\n",
    "plt.axis('equal')\n",
    "plt.show()"
   ]
  }
 ],
 "metadata": {
  "kernelspec": {
   "display_name": "Python 3 (ipykernel)",
   "language": "python",
   "name": "python3"
  },
  "language_info": {
   "codemirror_mode": {
    "name": "ipython",
    "version": 3
   },
   "file_extension": ".py",
   "mimetype": "text/x-python",
   "name": "python",
   "nbconvert_exporter": "python",
   "pygments_lexer": "ipython3",
   "version": "3.9.7"
  }
 },
 "nbformat": 4,
 "nbformat_minor": 5
}
